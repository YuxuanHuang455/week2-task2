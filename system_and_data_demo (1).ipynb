{
 "cells": [
  {
   "cell_type": "markdown",
   "id": "bbaf7626",
   "metadata": {},
   "source": [
    "# System & Data Demo\n",
    "This notebook checks your Python environment and loads the sample micro‑expression CSV."
   ]
  },
  {
   "cell_type": "code",
   "execution_count": null,
   "id": "b08c6039",
   "metadata": {},
   "outputs": [],
   "source": [
    "\n",
    "import sys, platform, os, time\n",
    "import numpy as np\n",
    "import pandas as pd\n",
    "\n",
    "print(\"Python:\", sys.version.split()[0])\n",
    "print(\"Platform:\", platform.platform())\n",
    "try:\n",
    "    import torch\n",
    "    print(\"PyTorch:\", torch.__version__)\n",
    "    print(\"CUDA available:\", torch.cuda.is_available())\n",
    "    if torch.cuda.is_available():\n",
    "        print(\"GPU:\", torch.cuda.get_device_name(0))\n",
    "except Exception as e:\n",
    "    print(\"PyTorch not available or failed to import:\", e)\n"
   ]
  },
  {
   "cell_type": "code",
   "execution_count": null,
   "id": "f5a845a9",
   "metadata": {},
   "outputs": [],
   "source": [
    "\n",
    "# Quick CPU/GPU micro‑benchmark (matrix multiply) — small to stay fast.\n",
    "import time\n",
    "import numpy as np\n",
    "\n",
    "def bench_mm(n=1024, device=\"cpu\"):\n",
    "    if device == \"cpu\":\n",
    "        a = np.random.rand(n, n).astype(\"float32\")\n",
    "        b = np.random.rand(n, n).astype(\"float32\")\n",
    "        t0 = time.time()\n",
    "        c = a @ b\n",
    "        return time.time() - t0\n",
    "    else:\n",
    "        import torch\n",
    "        a = torch.randn(n, n, device=\"cuda\")\n",
    "        b = torch.randn(n, n, device=\"cuda\")\n",
    "        torch.cuda.synchronize()\n",
    "        t0 = time.time()\n",
    "        c = a @ b\n",
    "        torch.cuda.synchronize()\n",
    "        return time.time() - t0\n",
    "\n",
    "cpu_t = bench_mm(256, \"cpu\")\n",
    "print(f\"CPU 256x256 matmul time: {cpu_t:.4f}s\")\n",
    "try:\n",
    "    import torch\n",
    "    if torch.cuda.is_available():\n",
    "        gpu_t = bench_mm(1024, \"gpu\")\n",
    "        print(f\"GPU 1024x1024 matmul time: {gpu_t:.4f}s\")\n",
    "except:\n",
    "    pass\n"
   ]
  },
  {
   "cell_type": "code",
   "execution_count": null,
   "id": "3ef41f73",
   "metadata": {},
   "outputs": [],
   "source": [
    "\n",
    "# Load sample dataset\n",
    "import pandas as pd\n",
    "df = pd.read_csv(\"/mnt/data/stats201_microexp_project/data/sample_microexpressions.csv\")\n",
    "df.head()\n"
   ]
  },
  {
   "cell_type": "code",
   "execution_count": null,
   "id": "3f44a64a",
   "metadata": {},
   "outputs": [],
   "source": [
    "\n",
    "# Basic sanity checks\n",
    "assert set([\"subject_id\",\"dataset\",\"fps\",\"width\",\"height\",\"label\",\"onset_frame\",\"apex_frame\",\"notes\"]).issubset(df.columns)\n",
    "print(\"Rows:\", len(df), \"| Columns:\", len(df.columns))\n",
    "print(\"Datasets present:\", df['dataset'].unique())\n",
    "print(\"Labels:\", df['label'].unique())\n"
   ]
  },
  {
   "cell_type": "code",
   "execution_count": null,
   "id": "75b404c3",
   "metadata": {},
   "outputs": [],
   "source": [
    "\n",
    "# Plot count of labels (matplotlib only; no custom colors)\n",
    "import matplotlib.pyplot as plt\n",
    "\n",
    "label_counts = df['label'].value_counts().sort_index()\n",
    "plt.figure()\n",
    "label_counts.plot(kind=\"bar\", title=\"Label Frequency (Sample)\")\n",
    "plt.xlabel(\"Label\")\n",
    "plt.ylabel(\"Count\")\n",
    "plt.show()\n"
   ]
  },
  {
   "cell_type": "markdown",
   "id": "168770f8",
   "metadata": {},
   "source": [
    "---\n",
    "**Next steps**\n",
    "- Replace the synthetic CSV with real metadata and frames once approved.\n",
    "- Keep column names stable to reuse this notebook with minimal edits.\n"
   ]
  }
 ],
 "metadata": {},
 "nbformat": 4,
 "nbformat_minor": 5
}
